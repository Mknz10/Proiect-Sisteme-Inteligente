{
 "cells": [
  {
   "cell_type": "markdown",
   "id": "12a76f22-45d5-4fa3-97a3-a275bc28c6c5",
   "metadata": {},
   "source": [
    "## Proiect - Predicție a Rezervărilor la Hotel"
   ]
  },
  {
   "cell_type": "markdown",
   "id": "8fb35a7b-a55c-40f6-a103-08db98e86e47",
   "metadata": {},
   "source": [
    "# Importarea Bibliotecilor Necesare"
   ]
  },
  {
   "cell_type": "code",
   "execution_count": null,
   "id": "2f68031e-00c8-4729-bfc4-6df62cc8da1b",
   "metadata": {},
   "outputs": [],
   "source": [
    "import pandas as pd\n",
    "import numpy as np\n",
    "import matplotlib.pyplot as plt\n",
    "import seaborn as sns\n",
    "import missingno as msno"
   ]
  }
 ],
 "metadata": {
  "kernelspec": {
   "display_name": "Python 3 (ipykernel)",
   "language": "python",
   "name": "python3"
  },
  "language_info": {
   "codemirror_mode": {
    "name": "ipython",
    "version": 3
   },
   "file_extension": ".py",
   "mimetype": "text/x-python",
   "name": "python",
   "nbconvert_exporter": "python",
   "pygments_lexer": "ipython3",
   "version": "3.13.2"
  }
 },
 "nbformat": 4,
 "nbformat_minor": 5
}
